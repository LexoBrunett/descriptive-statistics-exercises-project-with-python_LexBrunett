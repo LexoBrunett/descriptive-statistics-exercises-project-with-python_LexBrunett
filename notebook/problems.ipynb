{
    "cells": [
        {
            "cell_type": "markdown",
            "id": "ac622319",
            "metadata": {},
            "source": [
                "# Descriptive statistics problems"
            ]
        },
        {
            "cell_type": "markdown",
            "id": "5e0ab0d5",
            "metadata": {},
            "source": [
                "### Exercise 1\n",
                "\n",
                "We will use NumPy to obtain information to describe statistically.\n",
                "\n",
                "- Generate an array of 100 elements following a normal distribution.\n",
                "- Generate an array of 100 elements following a chi-square distribution with 3 degrees of freedom.\n",
                "- Calculate the main metrics and statistical measures that best describe the two vectors."
            ]
        },
        {
            "cell_type": "code",
            "execution_count": 1,
            "id": "34720ab6",
            "metadata": {},
            "outputs": [
                {
                    "name": "stdout",
                    "output_type": "stream",
                    "text": [
                        "Normal Distribution Stats:\n",
                        "Mean: 0.10966023990045469\n",
                        "Median: 0.04559184534244651\n",
                        "Variance: 1.10134146495764\n",
                        "Standard Deviation: 1.0494481716395718\n",
                        "Min: -2.0991810393933266\n",
                        "Max: 3.016753684934132\n",
                        "25th Percentile: -0.4630341965337501\n",
                        "75th Percentile: 0.7938243435516432\n",
                        "\n",
                        "Chi-Square Distribution Stats:\n",
                        "Mean: 3.38026522631761\n",
                        "Median: 2.433384716968857\n",
                        "Variance: 9.007011317529027\n",
                        "Standard Deviation: 3.0011683254241217\n",
                        "Min: 0.04216663513670255\n",
                        "Max: 13.365803060076118\n",
                        "25th Percentile: 1.3682862895985046\n",
                        "75th Percentile: 4.031507519313617\n"
                    ]
                }
            ],
            "source": [
                "import numpy as np\n",
                "\n",
                "normal_data = np.random.normal(loc=0, scale=1, size=100)\n",
                "chi_square_data = np.random.chisquare(df=3, size=100)\n",
                "def describe_data(data):\n",
                "    description = {\n",
                "        \"Mean\": np.mean(data),\n",
                "        \"Median\": np.median(data),\n",
                "        \"Variance\": np.var(data),\n",
                "        \"Standard Deviation\": np.std(data),\n",
                "        \"Min\": np.min(data),\n",
                "        \"Max\": np.max(data),\n",
                "        \"25th Percentile\": np.percentile(data, 25),\n",
                "        \"75th Percentile\": np.percentile(data, 75)\n",
                "    }\n",
                "    return description\n",
                "\n",
                "# Describir el array de distribución normal\n",
                "normal_stats = describe_data(normal_data)\n",
                "print(\"Normal Distribution Stats:\")\n",
                "for key, value in normal_stats.items():\n",
                "    print(f\"{key}: {value}\")\n",
                "\n",
                "# Describir el array de distribución chi-cuadrado\n",
                "chi_square_stats = describe_data(chi_square_data)\n",
                "print(\"\\nChi-Square Distribution Stats:\")\n",
                "for key, value in chi_square_stats.items():\n",
                "    print(f\"{key}: {value}\")\n"
            ]
        },
        {
            "cell_type": "markdown",
            "id": "46c70c3d",
            "metadata": {},
            "source": [
                "### Exercise 2\n",
                "\n",
                "Write a Python program to calculate the standard deviation of the following data:\n",
                "\n",
                "```py\n",
                "data = [4, 2, 5, 8, 6]\n",
                "```"
            ]
        },
        {
            "cell_type": "code",
            "execution_count": 2,
            "id": "d590308e",
            "metadata": {},
            "outputs": [
                {
                    "name": "stdout",
                    "output_type": "stream",
                    "text": [
                        "La desviación estándar es: 2.0\n"
                    ]
                }
            ],
            "source": [
                "import numpy as np\n",
                "\n",
                "data = [4, 2, 5, 8, 6]\n",
                "\n",
                "# Calcular la desviación estándar usando NumPy\n",
                "std_dev = np.std(data, ddof=0)  # ddof=0 indica que es la desviación estándar de la población\n",
                "\n",
                "# Mostrar el resultado\n",
                "print(f\"La desviación estándar es: {std_dev}\")\n"
            ]
        }
    ],
    "metadata": {
        "interpreter": {
            "hash": "9248718ffe6ce6938b217e69dbcc175ea21f4c6b28a317e96c05334edae734bb"
        },
        "kernelspec": {
            "display_name": "Python 3.9.12 ('ML-BOOTCAMP')",
            "language": "python",
            "name": "python3"
        },
        "language_info": {
            "codemirror_mode": {
                "name": "ipython",
                "version": 3
            },
            "file_extension": ".py",
            "mimetype": "text/x-python",
            "name": "python",
            "nbconvert_exporter": "python",
            "pygments_lexer": "ipython3",
            "version": "3.11.4"
        }
    },
    "nbformat": 4,
    "nbformat_minor": 5
}
